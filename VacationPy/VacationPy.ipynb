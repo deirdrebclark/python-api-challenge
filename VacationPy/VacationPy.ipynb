{
 "cells": [
  {
   "cell_type": "code",
   "execution_count": 1,
   "metadata": {},
   "outputs": [],
   "source": [
    "# Dependencies and Setup\n",
    "import matplotlib.pyplot as plt\n",
    "import pandas as pd\n",
    "import numpy as np\n",
    "import requests\n",
    "import gmaps\n",
    "import os\n",
    "\n",
    "# Import API key\n",
    "from api_keys import g_key\n",
    "\n",
    "#workaround for Google maps\n",
    "from IPython.display import HTML\n",
    "from ipywidgets.embed import embed_minimal_html\n"
   ]
  },
  {
   "cell_type": "code",
   "execution_count": 2,
   "metadata": {},
   "outputs": [
    {
     "data": {
      "text/html": [
       "<div>\n",
       "<style scoped>\n",
       "    .dataframe tbody tr th:only-of-type {\n",
       "        vertical-align: middle;\n",
       "    }\n",
       "\n",
       "    .dataframe tbody tr th {\n",
       "        vertical-align: top;\n",
       "    }\n",
       "\n",
       "    .dataframe thead th {\n",
       "        text-align: right;\n",
       "    }\n",
       "</style>\n",
       "<table border=\"1\" class=\"dataframe\">\n",
       "  <thead>\n",
       "    <tr style=\"text-align: right;\">\n",
       "      <th></th>\n",
       "      <th>City</th>\n",
       "      <th>Country</th>\n",
       "      <th>Lat</th>\n",
       "      <th>Lng</th>\n",
       "      <th>Date</th>\n",
       "      <th>Max Temp (F)</th>\n",
       "      <th>Cloudiness</th>\n",
       "      <th>Humidity</th>\n",
       "      <th>Wind Speed</th>\n",
       "    </tr>\n",
       "  </thead>\n",
       "  <tbody>\n",
       "    <tr>\n",
       "      <th>0</th>\n",
       "      <td>loei</td>\n",
       "      <td>th</td>\n",
       "      <td>17.42</td>\n",
       "      <td>101.50</td>\n",
       "      <td>1580007262</td>\n",
       "      <td>79.00</td>\n",
       "      <td>70</td>\n",
       "      <td>60</td>\n",
       "      <td>1.12</td>\n",
       "    </tr>\n",
       "    <tr>\n",
       "      <th>1</th>\n",
       "      <td>saint-philippe</td>\n",
       "      <td>re</td>\n",
       "      <td>-21.36</td>\n",
       "      <td>55.77</td>\n",
       "      <td>1580007262</td>\n",
       "      <td>73.40</td>\n",
       "      <td>90</td>\n",
       "      <td>83</td>\n",
       "      <td>9.17</td>\n",
       "    </tr>\n",
       "    <tr>\n",
       "      <th>2</th>\n",
       "      <td>kapaa</td>\n",
       "      <td>us</td>\n",
       "      <td>22.08</td>\n",
       "      <td>-159.32</td>\n",
       "      <td>1580007263</td>\n",
       "      <td>78.80</td>\n",
       "      <td>40</td>\n",
       "      <td>65</td>\n",
       "      <td>6.93</td>\n",
       "    </tr>\n",
       "    <tr>\n",
       "      <th>3</th>\n",
       "      <td>inta</td>\n",
       "      <td>ru</td>\n",
       "      <td>66.03</td>\n",
       "      <td>60.17</td>\n",
       "      <td>1580007263</td>\n",
       "      <td>-9.24</td>\n",
       "      <td>87</td>\n",
       "      <td>99</td>\n",
       "      <td>2.06</td>\n",
       "    </tr>\n",
       "    <tr>\n",
       "      <th>4</th>\n",
       "      <td>mataura</td>\n",
       "      <td>pf</td>\n",
       "      <td>-46.19</td>\n",
       "      <td>168.86</td>\n",
       "      <td>1580007263</td>\n",
       "      <td>77.65</td>\n",
       "      <td>64</td>\n",
       "      <td>58</td>\n",
       "      <td>0.58</td>\n",
       "    </tr>\n",
       "  </tbody>\n",
       "</table>\n",
       "</div>"
      ],
      "text/plain": [
       "             City Country    Lat     Lng        Date  Max Temp (F)  \\\n",
       "0            loei      th  17.42  101.50  1580007262         79.00   \n",
       "1  saint-philippe      re -21.36   55.77  1580007262         73.40   \n",
       "2           kapaa      us  22.08 -159.32  1580007263         78.80   \n",
       "3            inta      ru  66.03   60.17  1580007263         -9.24   \n",
       "4         mataura      pf -46.19  168.86  1580007263         77.65   \n",
       "\n",
       "   Cloudiness  Humidity  Wind Speed  \n",
       "0          70        60        1.12  \n",
       "1          90        83        9.17  \n",
       "2          40        65        6.93  \n",
       "3          87        99        2.06  \n",
       "4          64        58        0.58  "
      ]
     },
     "execution_count": 2,
     "metadata": {},
     "output_type": "execute_result"
    }
   ],
   "source": [
    "#Get city data from cities csv file\n",
    "city_df = pd.read_csv('../output_data/cities.csv')\n",
    "city_df = city_df.dropna()\n",
    "city_df.head()"
   ]
  },
  {
   "cell_type": "code",
   "execution_count": 3,
   "metadata": {},
   "outputs": [],
   "source": [
    "# Store latitude and longitude in locations\n",
    "locations = city_df[['Lat', 'Lng']]\n",
    "\n",
    "# Convert Humidity to float\n",
    "humidity = city_df['Humidity'].astype(float)\n"
   ]
  },
  {
   "cell_type": "code",
   "execution_count": 4,
   "metadata": {
    "scrolled": true
   },
   "outputs": [
    {
     "data": {
      "application/vnd.jupyter.widget-view+json": {
       "model_id": "3e1cecdd728e4d83a8604f11e5b98710",
       "version_major": 2,
       "version_minor": 0
      },
      "text/plain": [
       "Figure(layout=FigureLayout(height='420px'))"
      ]
     },
     "metadata": {},
     "output_type": "display_data"
    }
   ],
   "source": [
    "#Configure gmaps\n",
    "gmaps.configure(api_key = g_key)\n",
    "centerv= [\"0\",\"0\"]\n",
    "\n",
    "# Plot Heatmap\n",
    "fig = gmaps.figure(map_type=\"HYBRID\")\n",
    "\n",
    "# Create heat layer\n",
    "fig = gmaps.figure(zoom_level = 2,center = centerv)\n",
    "heat_layer = gmaps.heatmap_layer(locations, weights=humidity, \n",
    "                                 dissipating=False, max_intensity=10,\n",
    "                                 point_radius=1)\n",
    "\n",
    "# Add layer\n",
    "fig.add_layer(heat_layer)\n",
    "\n",
    "# Display map\n",
    "fig\n"
   ]
  },
  {
   "cell_type": "code",
   "execution_count": 5,
   "metadata": {},
   "outputs": [],
   "source": [
    "#Filter cities by weather conditions\n",
    "ideal_city_df = city_df.copy()\n",
    "\n",
    "\n",
    "ideal_city_df = ideal_city_df.loc[ideal_city_df['Max Temp (F)'] > 75] \n",
    "ideal_city_df = ideal_city_df.loc[ideal_city_df['Wind Speed'] < 10, :]\n",
    "ideal_city_df = ideal_city_df.loc[ideal_city_df['Cloudiness'] < 40, :]\n"
   ]
  },
  {
   "cell_type": "code",
   "execution_count": 9,
   "metadata": {},
   "outputs": [
    {
     "name": "stdout",
     "output_type": "stream",
     "text": [
      "Missing hotels... skipping.\n",
      "Missing hotels... skipping.\n",
      "Missing hotels... skipping.\n"
     ]
    }
   ],
   "source": [
    "hotel_df = ideal_city_df.copy()\n",
    "\n",
    "#hotel_df['Hotel Name'] = ''\n",
    "target_radius = 5000\n",
    "target_type = 'hotel'\n",
    "\n",
    "url = 'https://maps.googleapis.com/maps/api/place/nearbysearch/json'\n",
    "\n",
    "params = {\n",
    "    'radius': target_radius,\n",
    "    'type': target_type,\n",
    "    'key': g_key\n",
    "}\n",
    "\n",
    "for index, row in hotel_df.iterrows():\n",
    "    \n",
    "    hotel_df['Hotel Location'] = hotel_df['Lat'].astype(str).str.cat(hotel_df['Lng'].values.astype(str), sep = ',')\n",
    "    \n",
    "    params['location'] = hotel_df.loc[index, 'Hotel Location'] \n",
    "    \n",
    "    response = requests.get(url, params = params).json()\n",
    "    \n",
    "    results = response['results']\n",
    "    \n",
    "    try:\n",
    "        hotel_df.loc[index, 'Hotel Name'] = results[0]['name']\n",
    "        hotel_df.loc[index, 'Hotel Address'] = results[-1]['vicinity']\n",
    "        hotel_df.loc[index, 'Hotel Lat'] = results[0]['geometry']['location']['lat']\n",
    "        hotel_df.loc[index, 'Hotel Lng'] = results[0]['geometry']['location']['lng']\n",
    "    \n",
    "    except (KeyError, IndexError):\n",
    "        print(f'Missing hotels... skipping.')\n",
    "        \n"
   ]
  },
  {
   "cell_type": "code",
   "execution_count": 19,
   "metadata": {},
   "outputs": [
    {
     "data": {
      "text/plain": [
       "City              36\n",
       "Country           36\n",
       "Lat               36\n",
       "Lng               36\n",
       "Date              36\n",
       "Max Temp (F)      36\n",
       "Cloudiness        36\n",
       "Humidity          36\n",
       "Wind Speed        36\n",
       "Hotel Location    36\n",
       "Hotel Name        36\n",
       "Hotel Address     36\n",
       "Hotel Lat         36\n",
       "Hotel Lng         36\n",
       "dtype: int64"
      ]
     },
     "execution_count": 19,
     "metadata": {},
     "output_type": "execute_result"
    }
   ],
   "source": [
    "hotel_df.count()"
   ]
  },
  {
   "cell_type": "code",
   "execution_count": 24,
   "metadata": {},
   "outputs": [
    {
     "data": {
      "application/vnd.jupyter.widget-view+json": {
       "model_id": "3e1cecdd728e4d83a8604f11e5b98710",
       "version_major": 2,
       "version_minor": 0
      },
      "text/plain": [
       "Figure(layout=FigureLayout(height='420px'))"
      ]
     },
     "metadata": {},
     "output_type": "display_data"
    }
   ],
   "source": [
    "#Drop NaN values\n",
    "hotel_df = hotel_df.dropna()\n",
    "\n",
    "\n",
    "# Using the template add the hotel marks to the heatmap\n",
    "# Using the template add the hotel marks to the heatmap\n",
    "info_box_template = \"\"\"\n",
    "<dl>\n",
    "<dt>Name</dt><dd>{Hotel Name}</dd>\n",
    "<dt>City</dt><dd>{City}</dd>\n",
    "<dt>Country</dt><dd>{Country}</dd>\n",
    "</dl>\n",
    "\"\"\"\n",
    "# Store the DataFrame Row\n",
    "# NOTE: be sure to update with your DataFrame name\n",
    "hotel_info = [info_box_template.format(**row) for index, row in hotel_df.iterrows()]\n",
    "locations = hotel_df[['Hotel Lat', 'Hotel Lng']]\n",
    "\n",
    "marker_layer = gmaps.marker_layer(locations, info_box_content=hotel_info)\n",
    "\n",
    "fig.add_layer(marker_layer)\n",
    "\n",
    "fig"
   ]
  },
  {
   "cell_type": "code",
   "execution_count": null,
   "metadata": {},
   "outputs": [],
   "source": []
  }
 ],
 "metadata": {
  "kernelspec": {
   "display_name": "Python [conda env:.conda-PythonData]",
   "language": "python",
   "name": "conda-env-.conda-PythonData-py"
  },
  "language_info": {
   "codemirror_mode": {
    "name": "ipython",
    "version": 3
   },
   "file_extension": ".py",
   "mimetype": "text/x-python",
   "name": "python",
   "nbconvert_exporter": "python",
   "pygments_lexer": "ipython3",
   "version": "3.6.9"
  }
 },
 "nbformat": 4,
 "nbformat_minor": 2
}
