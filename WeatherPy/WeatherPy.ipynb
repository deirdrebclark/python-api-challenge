{
 "cells": [
  {
   "cell_type": "markdown",
   "metadata": {},
   "source": [
    "## Observable trends based on the data:\n",
    "\n",
    "1.  The lower the city is from the equator, the higher the maximum temperature.\n",
    "\n",
    "2.  The latitude did not matter as much as to how cloudy or windy a city would be.\n",
    "\n",
    "3.  A city's huidity was not dependent on the city's latitude."
   ]
  },
  {
   "cell_type": "code",
   "execution_count": 1,
   "metadata": {},
   "outputs": [],
   "source": [
    "# Dependencies and Setup\n",
    "import matplotlib.pyplot as plt\n",
    "import pandas as pd\n",
    "import numpy as np\n",
    "import requests\n",
    "import time\n",
    "from scipy.stats import linregress\n",
    "from pprint import pprint\n",
    "\n",
    "# Import API key\n",
    "from api_keys import weather_api_key\n",
    "\n",
    "# Incorporated citipy to determine city based on latitude and longitude\n",
    "from citipy import citipy\n",
    "\n",
    "# Output File (CSV)\n",
    "output_data_file = '../output_data/cities.csv'\n",
    "\n",
    "# Range of latitudes and longitudes\n",
    "lat_range = (-90, 90)\n",
    "lng_range = (-180, 180)"
   ]
  },
  {
   "cell_type": "code",
   "execution_count": 2,
   "metadata": {},
   "outputs": [
    {
     "name": "stdout",
     "output_type": "stream",
     "text": [
      "City count:  625; Country count:  625\n"
     ]
    }
   ],
   "source": [
    "\n",
    "# List for holding lat_lngs and cities\n",
    "lat_lngs = []\n",
    "cities = []\n",
    "countries = []\n",
    "\n",
    "# Create a set of random lat and lng combinations\n",
    "lats = np.random.uniform(low=-90.000, high=90.000, size=1500)\n",
    "lngs = np.random.uniform(low=-180.000, high=180.000, size=1500)\n",
    "lat_lngs = zip(lats, lngs)\n",
    "\n",
    "# Identify nearest city for each lat, lng combination\n",
    "for lat_lng in lat_lngs:\n",
    "    city = citipy.nearest_city(lat_lng[0], lat_lng[1]).city_name\n",
    "    country = citipy.nearest_city(lat_lng[0], lat_lng[1]).country_code #city.country_code\n",
    "    \n",
    "    # If the city is unique, then add it to a our cities list\n",
    "    if city not in cities:\n",
    "        cities.append(city)\n",
    "        countries.append(country)\n",
    "        \n",
    "# Print the city count to confirm sufficient count\n",
    "city_count = len(cities)\n",
    "country_count = len(countries)\n",
    "print(f'City count:  {city_count}; Country count:  {country_count}')\n"
   ]
  },
  {
   "cell_type": "code",
   "execution_count": 3,
   "metadata": {},
   "outputs": [
    {
     "name": "stdout",
     "output_type": "stream",
     "text": [
      "'Beginning Data Retrieval'\n",
      "'-----------------------------'\n",
      "'Processing Record 1 in Set 1 | dzhankoy'\n",
      "'Processing Record 2 in Set 1 | bambous virieux'\n",
      "'Processing Record 3 in Set 1 | mataura'\n",
      "'Processing Record 4 in Set 1 | barrow'\n",
      "'Processing Record 5 in Set 1 | castro'\n",
      "'Processing Record 6 in Set 1 | hithadhoo'\n",
      "'Processing Record 7 in Set 1 | codrington'\n",
      "'Processing Record 8 in Set 1 | ust-omchug'\n",
      "'Processing Record 9 in Set 1 | ilulissat'\n",
      "'Processing Record 10 in Set 1 | deputatskiy'\n",
      "'Processing Record 11 in Set 1 | severo-kurilsk'\n",
      "'Processing Record 12 in Set 1 | iskateley'\n",
      "'Processing Record 13 in Set 1 | marcona'\n"
     ]
    },
    {
     "ename": "KeyError",
     "evalue": "'coord'",
     "output_type": "error",
     "traceback": [
      "\u001b[1;31m---------------------------------------------------------------------------\u001b[0m",
      "\u001b[1;31mKeyError\u001b[0m                                  Traceback (most recent call last)",
      "\u001b[1;32m<ipython-input-3-8cf9793f6c64>\u001b[0m in \u001b[0;36m<module>\u001b[1;34m()\u001b[0m\n\u001b[0;32m     37\u001b[0m                 \u001b[0mpprint\u001b[0m\u001b[1;33m(\u001b[0m\u001b[1;34mf'Processing Record {print_count} in Set {set_count} | {city}'\u001b[0m\u001b[1;33m)\u001b[0m\u001b[1;33m\u001b[0m\u001b[1;33m\u001b[0m\u001b[0m\n\u001b[0;32m     38\u001b[0m \u001b[1;33m\u001b[0m\u001b[0m\n\u001b[1;32m---> 39\u001b[1;33m                 \u001b[0mLat\u001b[0m\u001b[1;33m.\u001b[0m\u001b[0mappend\u001b[0m\u001b[1;33m(\u001b[0m\u001b[0mw_response\u001b[0m\u001b[1;33m[\u001b[0m\u001b[1;34m'coord'\u001b[0m\u001b[1;33m]\u001b[0m\u001b[1;33m[\u001b[0m\u001b[1;34m'lat'\u001b[0m\u001b[1;33m]\u001b[0m\u001b[1;33m)\u001b[0m\u001b[1;33m\u001b[0m\u001b[1;33m\u001b[0m\u001b[0m\n\u001b[0m\u001b[0;32m     40\u001b[0m                 \u001b[0mLng\u001b[0m\u001b[1;33m.\u001b[0m\u001b[0mappend\u001b[0m\u001b[1;33m(\u001b[0m\u001b[0mw_response\u001b[0m\u001b[1;33m[\u001b[0m\u001b[1;34m'coord'\u001b[0m\u001b[1;33m]\u001b[0m\u001b[1;33m[\u001b[0m\u001b[1;34m'lon'\u001b[0m\u001b[1;33m]\u001b[0m\u001b[1;33m)\u001b[0m\u001b[1;33m\u001b[0m\u001b[1;33m\u001b[0m\u001b[0m\n\u001b[0;32m     41\u001b[0m                 \u001b[0mDate\u001b[0m\u001b[1;33m.\u001b[0m\u001b[0mappend\u001b[0m\u001b[1;33m(\u001b[0m\u001b[0mw_response\u001b[0m\u001b[1;33m[\u001b[0m\u001b[1;34m'dt'\u001b[0m\u001b[1;33m]\u001b[0m\u001b[1;33m)\u001b[0m\u001b[1;33m\u001b[0m\u001b[1;33m\u001b[0m\u001b[0m\n",
      "\u001b[1;31mKeyError\u001b[0m: 'coord'"
     ]
    }
   ],
   "source": [
    "#Retrieve the latitude and longitude from citipy\n",
    "\n",
    "#Set up variables\n",
    "city_name = ''\n",
    "i = 0\n",
    "print_count = 0\n",
    "record_count = 0\n",
    "set_count = 1\n",
    "\n",
    "Lat = []\n",
    "Lng = []\n",
    "Date = []\n",
    "Max_Temp = []\n",
    "Humidity = []\n",
    "Cloudiness = []\n",
    "Wind_Speed = []\n",
    "\n",
    "#Begin retrieval\n",
    "pprint(f'Beginning Data Retrieval')\n",
    "pprint(f'-----------------------------')\n",
    "\n",
    "if record_count < city_count: \n",
    "         \n",
    "    for city in cities:\n",
    "\n",
    "        city_name = city\n",
    "        record_count += 1\n",
    "\n",
    "        if print_count < 100:\n",
    "\n",
    "            print_count += 1\n",
    "            \n",
    "            w_response = requests.get('https://api.openweathermap.org/data/2.5/weather?q=' + city_name \n",
    "                                      + '&units=imperial' + '&APPID=' + weather_api_key).json()\n",
    "            try:\n",
    "\n",
    "                pprint(f'Processing Record {print_count} in Set {set_count} | {city}')\n",
    "\n",
    "                Lat.append(w_response['coord']['lat'])\n",
    "                Lng.append(w_response['coord']['lon'])\n",
    "                Date.append(w_response['dt'])\n",
    "                Cloudiness.append(w_response['clouds']['all'])\n",
    "                Max_Temp.append(w_response['main']['temp_max'])\n",
    "                Humidity.append(w_response['main']['humidity'])\n",
    "                Wind_Speed.append(w_response['wind']['speed'])\n",
    "\n",
    "            except (IndexError):\n",
    "                pprint(f'Missing information for {city_name}. Skipping...')\n",
    "           \n",
    "\n",
    "        else:\n",
    "\n",
    "            set_count += 1\n",
    "            print_count = 0\n",
    "\n",
    "pprint(f'-----------------------------')\n",
    "pprint(f'Data Retrieval Complete')\n",
    "pprint(f'-----------------------------')\n",
    "        "
   ]
  },
  {
   "cell_type": "code",
   "execution_count": null,
   "metadata": {},
   "outputs": [],
   "source": [
    "#Concatnate the lists of city data\n",
    "cities = pd.Series(cities)\n",
    "countries = pd.Series(countries)\n",
    "Lat = pd.Series(Lat)\n",
    "Lng = pd.Series(Lng)\n",
    "Date = pd.Series(Date)\n",
    "Max_Temp = pd.Series(Max_Temp)\n",
    "Cloudiness = pd.Series(Cloudiness)\n",
    "Humidity = pd.Series(Humidity)\n",
    "Wind_Speed = pd.Series(Wind_Speed)\n",
    "\n",
    "city_data = pd.concat([cities, countries, Lat, Lng, Date, Max_Temp, Cloudiness, Humidity, Wind_Speed],\n",
    "                      axis = 1, join = 'inner')\n",
    "\n",
    "city_data.columns = ['City', 'Country', 'Lat', 'Lng', 'Date', 'Max Temp (F)', 'Cloudiness',\n",
    "                                           'Humidity', 'Wind Speed']\n",
    "\n",
    "#Write the data to the cities.csv file\n",
    "city_data.to_csv(output_data_file, index = False, header = True)\n",
    "\n",
    "#Create a dataframe of the cities csv file\n",
    "city_df = pd.read_csv(output_data_file)\n",
    "\n",
    "city_df.head(10)\n",
    "    \n"
   ]
  },
  {
   "cell_type": "markdown",
   "metadata": {},
   "source": [
    "## SCATTER PLOTS"
   ]
  },
  {
   "cell_type": "code",
   "execution_count": null,
   "metadata": {},
   "outputs": [],
   "source": [
    "#Loop through cities csv file to create the 'City Latitude vx. Max Temp' scatter plot\n",
    "x = []\n",
    "y = []\n",
    "\n",
    "with open(output_data_file) as city_file:\n",
    "    \n",
    "    plot = pd.read_csv(city_file, delimiter = ',')\n",
    "    \n",
    "    for lat in plot['Lat']:\n",
    "        x.append(lat)\n",
    "        \n",
    "    for temp in plot['Max Temp (F)']:\n",
    "        y.append(temp)\n",
    "        \n",
    "        \n",
    "x_limit = 360\n",
    "x_axis = np.arange(0, x_limit, 10)\n",
    "\n",
    "plt.scatter(x, y, marker = 'o', facecolors = 'g', edgecolors = 'b', s = x_axis, alpha = 0.25)\n",
    "\n",
    "plt.title('City Latitude vs. Max Temperature (F) (01/23/2019)')\n",
    "plt.xlabel('Latitude')\n",
    "plt.ylabel('Max Temp (F)')\n",
    "plt.grid()\n",
    "\n",
    "plt.show()\n",
    "\n",
    "plt.savefig('../output_data/LatvTemp')"
   ]
  },
  {
   "cell_type": "markdown",
   "metadata": {},
   "source": [
    "The above scatter plot shows that as the cities are more north of the celestial equator, the maximum temperature is lower.  Whereas, the cities below the equator have higher maximum temperatures with a couple of outliers."
   ]
  },
  {
   "cell_type": "code",
   "execution_count": null,
   "metadata": {},
   "outputs": [],
   "source": [
    "#Loop through cities csv file to create the 'City Latitude vx. Humidity' scatter plot\n",
    "x = []\n",
    "y = []\n",
    "\n",
    "with open(output_data_file) as city_file:\n",
    "    \n",
    "    plot = pd.read_csv(city_file, delimiter = ',')\n",
    "    \n",
    "    for lat in plot['Lat']:\n",
    "        x.append(lat)\n",
    "        \n",
    "    for humidity in plot['Humidity']:\n",
    "        y.append(humidity)\n",
    "        \n",
    "        \n",
    "x_limit = 360\n",
    "x_axis = np.arange(0, x_limit, 10)\n",
    "y_limit = 300\n",
    "y_axis = np.arange(0, y_limit, 100)\n",
    "\n",
    "plt.scatter(x, y, marker = 'o', facecolors = 'g', edgecolors = 'b', s = x_axis, alpha = 0.25)\n",
    "\n",
    "plt.title('City Latitude vs. Humidity % (01/23/2019)')\n",
    "plt.xlabel('Latitude')\n",
    "plt.ylabel('Humidity (%)')\n",
    "plt.grid()\n",
    "\n",
    "plt.show()\n",
    "\n",
    "plt.savefig('../output_data/LatvHumidity')"
   ]
  },
  {
   "cell_type": "markdown",
   "metadata": {},
   "source": [
    "The 'City Latitude vs. Humidity % (01/23/2019)' scatter plot shows that the humidiy is not dependent on the latitude."
   ]
  },
  {
   "cell_type": "code",
   "execution_count": null,
   "metadata": {},
   "outputs": [],
   "source": [
    "#Loop through cities csv file to create the 'City Latitude vx. Cloudiness' scatter plot\n",
    "x = []\n",
    "y = []\n",
    "\n",
    "with open(output_data_file) as city_file:\n",
    "    \n",
    "    plot = pd.read_csv(city_file, delimiter = ',')\n",
    "    \n",
    "    for lat in plot['Lat']:\n",
    "        x.append(lat)\n",
    "        \n",
    "    for cloudiness in plot['Cloudiness']:\n",
    "        y.append(cloudiness)\n",
    "        \n",
    "        \n",
    "x_limit = 360\n",
    "x_axis = np.arange(0, x_limit, 10)\n",
    "y_limit = 80\n",
    "y_axis = np.arange(0, y_limit, 10)\n",
    "\n",
    "plt.scatter(x, y, marker = 'o', facecolors = 'g', edgecolors = 'b', s = x_axis, alpha = 0.25)\n",
    "\n",
    "plt.title('City Latitude vs. Cloudiness (%) (01/23/2019)')\n",
    "plt.xlabel('Latitude')\n",
    "plt.ylabel('Cloudiness (%)')\n",
    "plt.grid()\n",
    "\n",
    "plt.show()\n",
    "\n",
    "plt.savefig('../output_data/LatvCloudiness')"
   ]
  },
  {
   "cell_type": "markdown",
   "metadata": {},
   "source": [
    "The above scatter plot demonstrates that the location of the city is not a determining factor for how cloudy a city is."
   ]
  },
  {
   "cell_type": "code",
   "execution_count": null,
   "metadata": {},
   "outputs": [],
   "source": [
    "#Loop through cities csv file to create the 'City Latitude vx. Wind Speed' scatter plot\n",
    "x = []\n",
    "y = []\n",
    "\n",
    "with open(output_data_file) as city_file:\n",
    "    \n",
    "    plot = pd.read_csv(city_file, delimiter = ',')\n",
    "    \n",
    "    for lat in plot['Lat']:\n",
    "        x.append(lat)\n",
    "        \n",
    "    for wind_speed in plot['Wind Speed']:\n",
    "        y.append(wind_speed)\n",
    "        \n",
    "        \n",
    "x_limit = 360\n",
    "x_axis = np.arange(0, x_limit, 10)\n",
    "y_limit = 80\n",
    "y_axis = np.arange(0, y_limit, 100)\n",
    "\n",
    "plt.scatter(x, y, marker = 'o', facecolors = 'g', edgecolors = 'b', s = x_axis, alpha = 0.25)\n",
    "\n",
    "plt.title('City Latitude vs. Wind Speed (mph) (01/23/2019)')\n",
    "plt.xlabel('Latitude')\n",
    "plt.ylabel('Wind Speed (mph)')\n",
    "plt.grid()\n",
    "\n",
    "plt.show()\n",
    "\n",
    "plt.savefig('../output_data/LatvWindSpeed')"
   ]
  },
  {
   "cell_type": "markdown",
   "metadata": {},
   "source": [
    "The above 'Latitude vs. Wind Speed' plot shows that the spped of the wind is not dependent on the latitude."
   ]
  },
  {
   "cell_type": "markdown",
   "metadata": {},
   "source": [
    "## Linear Regressions"
   ]
  },
  {
   "cell_type": "code",
   "execution_count": null,
   "metadata": {},
   "outputs": [],
   "source": [
    "# Create Northern and Southern Hemisphere DataFrames\n",
    "\n",
    "North_Hemisphere_df = city_df.loc[city_df['Lat'] >= 0, :]\n",
    "South_Hemisphere_df = city_df.loc[city_df['Lat'] < 0, :]\n"
   ]
  },
  {
   "cell_type": "markdown",
   "metadata": {},
   "source": [
    "### Northern Hemisphere - Max Temp vs. Latitude Linear Regression"
   ]
  },
  {
   "cell_type": "code",
   "execution_count": null,
   "metadata": {},
   "outputs": [],
   "source": [
    "#Create the linear regression for the cities' max temperature vs. the northern latitudes\n",
    "x = North_Hemisphere_df['Lat']\n",
    "y = North_Hemisphere_df['Max Temp (F)']\n",
    "\n",
    "(slope, intercept, rvalue, pvalue, stderr) = linregress(x, y)\n",
    "regress_values = x * slope + intercept\n",
    "line_eq = 'y = ' + str(round(slope,2)) + 'x + ' + str(round(intercept,2))\n",
    "print(f'The r-squared is: {rvalue}')\n",
    "\n",
    "plt.scatter(x,y)\n",
    "plt.plot(x,regress_values,'r-')\n",
    "plt.annotate(line_eq,(6,10),fontsize=15,color=\"red\")\n",
    "\n",
    "plt.title('Northern Hemisphere - Max Temp vs. Latitude')\n",
    "plt.xlabel('Latitude')\n",
    "plt.ylabel('Max Temp (F)')\n",
    "\n",
    "plt.show()"
   ]
  },
  {
   "cell_type": "markdown",
   "metadata": {},
   "source": [
    "The above regression demonstrates that the higher the city's latitude, the lower the max temperature will be."
   ]
  },
  {
   "cell_type": "markdown",
   "metadata": {},
   "source": [
    "### Southern Hemisphere - Max Temp vs. Latitude Linear Regression"
   ]
  },
  {
   "cell_type": "code",
   "execution_count": null,
   "metadata": {
    "scrolled": true
   },
   "outputs": [],
   "source": [
    "#Create the linear regression for the cities' max temperature vs. the southern latitudes\n",
    "x = South_Hemisphere_df['Lat']\n",
    "y = South_Hemisphere_df['Max Temp (F)']\n",
    "\n",
    "(slope, intercept, rvalue, pvalue, stderr) = linregress(x, y)\n",
    "regress_values = x * slope + intercept\n",
    "line_eq = 'y = ' + str(round(slope,2)) + 'x + ' + str(round(intercept,2))\n",
    "print(f'The r-squared is: {rvalue}')\n",
    "\n",
    "plt.scatter(x,y)\n",
    "plt.plot(x,regress_values,'r-')\n",
    "plt.annotate(line_eq, xy=(-50, 60), xytext=(-30, 52), fontsize=15,color=\"red\")\n",
    "\n",
    "plt.title('Southern Hemisphere - Max Temp vs. Latitude')\n",
    "plt.xlabel('Latitude')\n",
    "plt.ylabel('Max Temp (F)')\n",
    "\n",
    "plt.show()"
   ]
  },
  {
   "cell_type": "markdown",
   "metadata": {},
   "source": [
    "The above regression shos that the maximum temperature is less dependent on the southern latitude as it has many outliers."
   ]
  },
  {
   "cell_type": "markdown",
   "metadata": {},
   "source": [
    "### Northern Hemisphere - Humidity (%) vs. Latitude Linear Regression"
   ]
  },
  {
   "cell_type": "code",
   "execution_count": null,
   "metadata": {},
   "outputs": [],
   "source": [
    "#Create the linear regression for the cities' humidity vs. the northern latitudes\n",
    "x = North_Hemisphere_df['Lat']\n",
    "y = North_Hemisphere_df['Humidity']\n",
    "\n",
    "(slope, intercept, rvalue, pvalue, stderr) = linregress(x, y)\n",
    "regress_values = x * slope + intercept\n",
    "line_eq = 'y = ' + str(round(slope,2)) + 'x + ' + str(round(intercept,2))\n",
    "print(f'The r-squared is: {rvalue}')\n",
    "\n",
    "plt.scatter(x,y)\n",
    "plt.plot(x,regress_values,'r-')\n",
    "plt.annotate(line_eq,(30,30),fontsize=15,color=\"red\")\n",
    "\n",
    "plt.title('Northern Hemisphere - Humidity vs. Latitude')\n",
    "plt.xlabel('Latitude')\n",
    "plt.ylabel('Humidity (%)')\n",
    "\n",
    "plt.show()"
   ]
  },
  {
   "cell_type": "markdown",
   "metadata": {},
   "source": [
    "It's more likely that cities north of the equator will have high humidity, but there are many outliers."
   ]
  },
  {
   "cell_type": "markdown",
   "metadata": {},
   "source": [
    "### Southern Hemisphere - Humidity (%) vs. Latitude Linear Regression"
   ]
  },
  {
   "cell_type": "code",
   "execution_count": null,
   "metadata": {},
   "outputs": [],
   "source": [
    "#Create the linear regression for the cities' humidity vs. the southern latitudes\n",
    "x = South_Hemisphere_df['Lat']\n",
    "y = South_Hemisphere_df['Humidity']\n",
    "\n",
    "(slope, intercept, rvalue, pvalue, stderr) = linregress(x, y)\n",
    "regress_values = x * slope + intercept\n",
    "line_eq = 'y = ' + str(round(slope,2)) + 'x + ' + str(round(intercept,2))\n",
    "print(f'The r-squared is: {rvalue}')\n",
    "\n",
    "plt.scatter(x,y)\n",
    "plt.plot(x,regress_values,'r-')\n",
    "plt.annotate(line_eq, xy=(-50, 60), xytext=(-30, 30), fontsize=15,color=\"red\")\n",
    "\n",
    "plt.title('Southern Hemisphere - Humidity vs. Latitude')\n",
    "plt.xlabel('Latitude')\n",
    "plt.ylabel('Humidity (%)')\n",
    "\n",
    "plt.show()"
   ]
  },
  {
   "cell_type": "markdown",
   "metadata": {},
   "source": [
    "As the southern cities' latitudes approach the equator, the more humidity is in the air, but there are too many outliers."
   ]
  },
  {
   "cell_type": "markdown",
   "metadata": {},
   "source": [
    "###  Northern Hemisphere - Cloudiness (%) vs. Latitude Linear Regression"
   ]
  },
  {
   "cell_type": "code",
   "execution_count": null,
   "metadata": {},
   "outputs": [],
   "source": [
    "#Create the linear regression for the cities' cloudiness vs. the northern latitudes\n",
    "x = North_Hemisphere_df['Lat']\n",
    "y = North_Hemisphere_df['Cloudiness']\n",
    "\n",
    "(slope, intercept, rvalue, pvalue, stderr) = linregress(x, y)\n",
    "regress_values = x * slope + intercept\n",
    "line_eq = 'y = ' + str(round(slope,2)) + 'x + ' + str(round(intercept,2))\n",
    "print(f'The r-squared is: {rvalue}')\n",
    "\n",
    "plt.scatter(x,y)\n",
    "plt.plot(x,regress_values,'r-')\n",
    "plt.annotate(line_eq,(30,30),fontsize=15,color=\"red\")\n",
    "\n",
    "plt.title('Northern Hemisphere - Cloudiness (%) vs. Latitude')\n",
    "plt.xlabel('Latitude')\n",
    "plt.ylabel('Cloudiness (%)')\n",
    "\n",
    "plt.show()"
   ]
  },
  {
   "cell_type": "markdown",
   "metadata": {},
   "source": [
    "The above linear regression show that as the city is higher than the equator, it should have more clouds but there are too many outliers."
   ]
  },
  {
   "cell_type": "markdown",
   "metadata": {},
   "source": [
    "###  Southern Hemisphere - Cloudiness (%) vs. Latitude Linear Regression"
   ]
  },
  {
   "cell_type": "code",
   "execution_count": null,
   "metadata": {},
   "outputs": [],
   "source": [
    "#Create the linear regression for the cities' cloudiness vs. the southern latitudes\n",
    "x = South_Hemisphere_df['Lat']\n",
    "y = South_Hemisphere_df['Cloudiness']\n",
    "\n",
    "(slope, intercept, rvalue, pvalue, stderr) = linregress(x, y)\n",
    "regress_values = x * slope + intercept\n",
    "line_eq = 'y = ' + str(round(slope,2)) + 'x + ' + str(round(intercept,2))\n",
    "print(f'The r-squared is: {rvalue}')\n",
    "\n",
    "plt.scatter(x,y)\n",
    "plt.plot(x,regress_values,'r-')\n",
    "plt.annotate(line_eq, xy=(-50, 60), xytext=(-30, 30), fontsize=15,color=\"red\")\n",
    "\n",
    "plt.title('Southern Hemisphere - Cloudiness(%`) vs. Latitude')\n",
    "plt.xlabel('Latitude')\n",
    "plt.ylabel('Cloudiness (%)')\n",
    "\n",
    "plt.show()"
   ]
  },
  {
   "cell_type": "markdown",
   "metadata": {},
   "source": [
    "This regression reiterates the Northern regression in that the higher the city's latitude, the cloudier the city but there are too many outliers."
   ]
  },
  {
   "cell_type": "markdown",
   "metadata": {},
   "source": [
    "### Northern Hemisphere - Wind Speed (mph) vs. Latitude Linear Regression"
   ]
  },
  {
   "cell_type": "code",
   "execution_count": null,
   "metadata": {
    "scrolled": true
   },
   "outputs": [],
   "source": [
    "#Create the linear regression for the cities' wind speed vs. the northern latitudes\n",
    "x = North_Hemisphere_df['Lat']\n",
    "y = North_Hemisphere_df['Wind Speed']\n",
    "\n",
    "(slope, intercept, rvalue, pvalue, stderr) = linregress(x, y)\n",
    "regress_values = x * slope + intercept\n",
    "line_eq = 'y = ' + str(round(slope,2)) + 'x + ' + str(round(intercept,2))\n",
    "print(f'The r-squared is: {rvalue}')\n",
    "\n",
    "plt.scatter(x,y)\n",
    "plt.plot(x,regress_values,'r-')\n",
    "plt.annotate(line_eq,(30,30),fontsize=15,color=\"red\")\n",
    "\n",
    "plt.title('Northern Hemisphere - Wind Speed (mph) vs. Latitude')\n",
    "plt.xlabel('Latitude')\n",
    "plt.ylabel('Wind Speed (mph)')\n",
    "\n",
    "plt.show()"
   ]
  },
  {
   "cell_type": "markdown",
   "metadata": {},
   "source": [
    "The windy cities are farther north of the equator, but I wouldn't make that definitive due to the many outliers."
   ]
  },
  {
   "cell_type": "markdown",
   "metadata": {},
   "source": [
    "###  Southern  Hemisphere - Wind Speed (mph) vs. Latitude Linear Regression"
   ]
  },
  {
   "cell_type": "code",
   "execution_count": null,
   "metadata": {},
   "outputs": [],
   "source": [
    "#Create the linear regression for the cities' wind speed vs. the southern latitudes\n",
    "x = South_Hemisphere_df['Lat']\n",
    "y = South_Hemisphere_df['Wind Speed']\n",
    "\n",
    "(slope, intercept, rvalue, pvalue, stderr) = linregress(x, y)\n",
    "regress_values = x * slope + intercept\n",
    "line_eq = 'y = ' + str(round(slope,2)) + 'x + ' + str(round(intercept,2))\n",
    "print(f'The r-squared is: {rvalue}')\n",
    "\n",
    "plt.scatter(x,y)\n",
    "plt.plot(x,regress_values,'r-')\n",
    "plt.annotate(line_eq, xy=(-50, 20), xytext=(-30, 25), fontsize=15,color=\"red\")\n",
    "\n",
    "plt.title('Southern Hemisphere - Wind Speed (mph`) vs. Latitude')\n",
    "plt.xlabel('Latitude')\n",
    "plt.ylabel('Wind Speed (mph)')\n",
    "\n",
    "plt.show()"
   ]
  },
  {
   "cell_type": "markdown",
   "metadata": {},
   "source": [
    "The cities that are farther south of the equator are very windy."
   ]
  }
 ],
 "metadata": {
  "kernelspec": {
   "display_name": "Python [conda env:.conda-PythonData]",
   "language": "python",
   "name": "conda-env-.conda-PythonData-py"
  },
  "language_info": {
   "codemirror_mode": {
    "name": "ipython",
    "version": 3
   },
   "file_extension": ".py",
   "mimetype": "text/x-python",
   "name": "python",
   "nbconvert_exporter": "python",
   "pygments_lexer": "ipython3",
   "version": "3.6.9"
  }
 },
 "nbformat": 4,
 "nbformat_minor": 2
}
